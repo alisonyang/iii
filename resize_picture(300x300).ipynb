{
 "cells": [
  {
   "cell_type": "code",
   "execution_count": 3,
   "metadata": {
    "collapsed": false
   },
   "outputs": [],
   "source": [
    "import cv2\n",
    "import numpy as np\n",
    "%matplotlib inline\n",
    "import os\n",
    "\n",
    "def get_imlist(path):\n",
    "    \"\"\"    Returns a list of filenames for\n",
    "        all jpg images in a directory. \"\"\"\n",
    "    return [os.path.join(path,f) for f in os.listdir(path) if f.endswith('.jpg')]\n",
    "imgList = get_imlist('/home/alison/Desktop/neuralart_tensorflow/images/teamber')\n",
    "#imgName = os.path.split(imgList[i])[1]\n",
    "\n",
    "\n",
    "for i, imgPath in enumerate(imgList):\n",
    "    im = cv2.imread(imgPath)\n",
    "    cv2.waitKey(0)\n",
    "    cv2.destroyAllWindows()\n",
    "    resized_image = cv2.resize(im, (300, 300)) \n",
    "    cv2.imwrite(\"/home/alison/Desktop/neuralart_tensorflow/images/\"+os.path.split(imgList[i])[1],resized_image)"
   ]
  },
  {
   "cell_type": "code",
   "execution_count": null,
   "metadata": {
    "collapsed": true
   },
   "outputs": [],
   "source": []
  }
 ],
 "metadata": {
  "kernelspec": {
   "display_name": "Python 2",
   "language": "python",
   "name": "python2"
  },
  "language_info": {
   "codemirror_mode": {
    "name": "ipython",
    "version": 2
   },
   "file_extension": ".py",
   "mimetype": "text/x-python",
   "name": "python",
   "nbconvert_exporter": "python",
   "pygments_lexer": "ipython2",
   "version": "2.7.11"
  }
 },
 "nbformat": 4,
 "nbformat_minor": 0
}
